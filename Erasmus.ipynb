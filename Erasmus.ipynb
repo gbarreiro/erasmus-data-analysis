{
 "cells": [
  {
   "cell_type": "markdown",
   "metadata": {},
   "source": [
    "# Erasmus Mobility Dataset Analysis\n",
    "An analysis of the student mobilities during the 2011-12 Erasmus exchange program.\n",
    "\n",
    "Authors: [Guillermo Barreiro](https://www.linkedin.com/in/guillermobf/), [Hilke van Meurs](https://www.linkedin.com/in/hilke-van-meurs-06346010a)\n",
    "\n",
    "*January 2020, Vienna*\n"
   ]
  },
  {
   "cell_type": "markdown",
   "metadata": {},
   "source": [
    "## Loading and filtering the data"
   ]
  },
  {
   "cell_type": "markdown",
   "metadata": {},
   "source": [
    "CSV dataset downloaded from the **European Union Data Portal**: http://data.europa.eu/euodp/en/data/storage/f/2015-03-13T153634/student_1112.csv"
   ]
  },
  {
   "cell_type": "code",
   "execution_count": null,
   "metadata": {
    "scrolled": true
   },
   "outputs": [],
   "source": [
    "# Imports libraries\n",
    "import pandas as pd\n",
    "import numpy as np\n",
    "import matplotlib as mpl\n",
    "import matplotlib.pyplot as plt\n",
    "from statistics import mean\n",
    "import seaborn as sns\n",
    "\n",
    "# Sets up plotting\n",
    "%matplotlib inline\n",
    "mpl.style.use(['seaborn-pastel'])\n",
    "figsize = (14, 8)\n",
    "sns.set()"
   ]
  },
  {
   "cell_type": "code",
   "execution_count": null,
   "metadata": {},
   "outputs": [],
   "source": [
    "# Downloads and loads the dataset\n",
    "records = pd.read_csv('http://data.europa.eu/euodp/en/data/storage/f/2015-03-13T153634/student_1112.csv', sep=';', decimal='.', low_memory=False, header = 0) # since the dataset is very large, the low_memory flag has to be set to False"
   ]
  },
  {
   "cell_type": "code",
   "execution_count": null,
   "metadata": {},
   "outputs": [],
   "source": [
    "# Filters the datasets => removes non-study mobilities and columns associated with them\n",
    "records = records[records['MOBILITYTYPE'] =='S']\n",
    "records = records.drop(columns=['MOBILITYTYPE', 'PLACEMENTENTERPRISE', 'COUNTRYOFPLACEMENT', 'ENTERPRISESIZE', 'TYPEPLACEMENTSECTOR', 'PLACEMENTGRANT', 'ECTSCREDITSPLACEMENT', 'ECTSCREDITSSTUDY', 'LENGTHPLACEMENT', 'PLACEMENTSTARTDATE'])\n",
    "\n",
    "records.reset_index(inplace=True, drop=True)\n",
    "\n",
    "records.head(10)"
   ]
  },
  {
   "cell_type": "markdown",
   "metadata": {},
   "source": [
    "## Data analysis: single variable"
   ]
  },
  {
   "cell_type": "markdown",
   "metadata": {},
   "source": [
    "#### Age"
   ]
  },
  {
   "cell_type": "code",
   "execution_count": null,
   "metadata": {},
   "outputs": [],
   "source": [
    "ages = records['AGE']\n",
    "\n",
    "# Calculates the average age of Erasmus students\n",
    "mean_age = mean(ages)\n",
    "print(\"Average age: %.2f\" %mean_age)\n",
    "\n",
    "# Calculates the standard deviation of the age of Erasmus students\n",
    "stdev_age = np.std(ages)\n",
    "print(\"Age standard deviation: %.2f\" %stdev_age)\n",
    "\n",
    "# Finds minimal age of Erasmus students\n",
    "min_age = min(ages)\n",
    "print(\"Minimum age: %d\" %min_age)\n",
    "\n",
    "# Finds maximum age of Erasmus students\n",
    "max_age = max(ages)\n",
    "print(\"Maximum age: %d\" %max_age)"
   ]
  },
  {
   "cell_type": "code",
   "execution_count": null,
   "metadata": {},
   "outputs": [],
   "source": [
    "# Shows a histogram with the students' ages\n",
    "fig_ages, axis_ages = plt.subplots(figsize=figsize) # creates an empty and abstract plot\n",
    "axis_ages.hist(ages, bins = 50) # creates a histogram with the list 'ages' values\n",
    "axis_ages.set_title('Student\\'s age')\n",
    "axis_ages.set_xlabel('Age')\n",
    "axis_ages.set_ylabel('Number of students')\n",
    "axis_ages.grid(axis='y')\n",
    "axis_ages"
   ]
  },
  {
   "cell_type": "markdown",
   "metadata": {},
   "source": [
    "#### Grant"
   ]
  },
  {
   "cell_type": "code",
   "execution_count": null,
   "metadata": {},
   "outputs": [],
   "source": [
    "# Calculates the average grant given to the Erasmus students\n",
    "grants = records['STUDYGRANT']\n",
    "print(\"Average grant: €%.2f\" %mean(grants))"
   ]
  },
  {
   "cell_type": "code",
   "execution_count": null,
   "metadata": {},
   "outputs": [],
   "source": [
    "# Calculates the standard deviation of the grant recieved for the Erasmus students\n",
    "grants = records['STUDYGRANT']\n",
    "stdev_grant = np.std(grants)\n",
    "print(\"Standard deviation of the grant: €%.2f\" %stdev_grant)"
   ]
  },
  {
   "cell_type": "code",
   "execution_count": null,
   "metadata": {},
   "outputs": [],
   "source": [
    "# Finds the highest grant\n",
    "grants = records['STUDYGRANT']\n",
    "max_grant = max(grants)\n",
    "print(\"Highest grant: €%.2f\" %max_grant)"
   ]
  },
  {
   "cell_type": "code",
   "execution_count": null,
   "metadata": {},
   "outputs": [],
   "source": [
    "# Finds the lowest grant\n",
    "grants = records['STUDYGRANT']\n",
    "min_grant = min(grants)\n",
    "print(\"Lowest grant: €%.2f\" %min_grant)"
   ]
  },
  {
   "cell_type": "code",
   "execution_count": null,
   "metadata": {},
   "outputs": [],
   "source": [
    "# Finds the lowest grant, skipping the students who didn't receive a grant\n",
    "grants = (records[records['STUDYGRANT']>0])['STUDYGRANT']\n",
    "min_grant_nonzero = min(grants)\n",
    "print(\"Lowest grant (excluding 0.00): €%.2f\" %min_grant_nonzero)"
   ]
  },
  {
   "cell_type": "code",
   "execution_count": null,
   "metadata": {},
   "outputs": [],
   "source": [
    "# Average monthly grant\n",
    "grants = records['STUDYGRANT']\n",
    "months = records['LENGTHSTUDYPERIOD']\n",
    "\n",
    "grant_per_month = grants/months\n",
    "avg_gpm = mean(grant_per_month)\n",
    "print(\"Average monthly grant: €%.2f\" %avg_gpm)"
   ]
  },
  {
   "cell_type": "code",
   "execution_count": null,
   "metadata": {},
   "outputs": [],
   "source": [
    "# Standard deviation of the monthly grant\n",
    "stdev_grantpm = numpy.std(grant_per_month)\n",
    "print(\"Standard deviation of the monthly grant: €%.2f\" %stdev_grantpm)"
   ]
  },
  {
   "cell_type": "code",
   "execution_count": null,
   "metadata": {},
   "outputs": [],
   "source": [
    "# Shows a histogram with the monthly grants\n",
    "fig_grants, axis_grants = plt.subplots(figsize=figsize) # creates an empty and abstract plot\n",
    "axis_grants.hist(grant_per_month, bins = 100) # creates a histogram with the list 'grant_per_month' values\n",
    "axis_grants.set_title('Monthly grants')\n",
    "axis_grants.set_xlabel('Money (in €)')\n",
    "axis_grants.set_ylabel('Number of students')\n",
    "axis_grants.grid(axis='y')\n",
    "axis_grants"
   ]
  },
  {
   "cell_type": "markdown",
   "metadata": {},
   "source": [
    "#### ECTS (study credits)"
   ]
  },
  {
   "cell_type": "code",
   "execution_count": null,
   "metadata": {},
   "outputs": [],
   "source": [
    "# Calculates the average number of ECTS per student\n",
    "ects = records['TOTALECTSCREDITS']  \n",
    "average_ECTS = mean(ects)\n",
    "print(\"Average number of ECTS: %.2f\" %average_ECTS) "
   ]
  },
  {
   "cell_type": "code",
   "execution_count": null,
   "metadata": {},
   "outputs": [],
   "source": [
    "# Calculates the standard deviation of ECTS per student\n",
    "ects = records['TOTALECTSCREDITS']  \n",
    "stdev_ECTS = np.std(ects)\n",
    "print(\"Standard deviation of the number of ECTS: %.2f\" %stdev_ECTS) "
   ]
  },
  {
   "cell_type": "code",
   "execution_count": null,
   "metadata": {},
   "outputs": [],
   "source": [
    "# Finds lowest number of ECTS\n",
    "ects = records['TOTALECTSCREDITS']\n",
    "minects = min(ects)\n",
    "print(\"Lowest number of ECTS: %.1f\" %minects) "
   ]
  },
  {
   "cell_type": "code",
   "execution_count": null,
   "metadata": {},
   "outputs": [],
   "source": [
    "# Finds lowest number of ECTS, skipping null values\n",
    "ects = (records[records['TOTALECTSCREDITS'] > 0])['TOTALECTSCREDITS']\n",
    "minects_nonzero = min(ects)\n",
    "print(\"Lowest number of ECTS (skipping null values): %.1f\" %minects_nonzero) "
   ]
  },
  {
   "cell_type": "code",
   "execution_count": null,
   "metadata": {},
   "outputs": [],
   "source": [
    "# Finds highest number of ECTS\n",
    "ects = records['TOTALECTSCREDITS']\n",
    "maxects = max(ects)\n",
    "print(\"Highest number of ECTS: %.1f\" %maxects) "
   ]
  },
  {
   "cell_type": "code",
   "execution_count": null,
   "metadata": {},
   "outputs": [],
   "source": [
    "# Shows a histogram with the number of ECTS\n",
    "fig_ects, axis_ects = plt.subplots(figsize=figsize) # creates an empty and abstract plot\n",
    "axis_ects.hist(ects, bins = 80) # creates a histogram with the list 'ects' values\n",
    "axis_ects.set_title('Received ECTS')\n",
    "axis_ects.set_xlabel('Number of ECTS')\n",
    "axis_ects.set_ylabel('Number of students')\n",
    "axis_ects.grid(axis='y')\n",
    "axis_ects"
   ]
  },
  {
   "cell_type": "markdown",
   "metadata": {},
   "source": [
    "#### Exchange duration"
   ]
  },
  {
   "cell_type": "code",
   "execution_count": null,
   "metadata": {},
   "outputs": [],
   "source": [
    "# Percentage of students staying only one semester\n",
    "length_study = list(records['LENGTHSTUDYPERIOD'])\n",
    "one_semester = records[records['LENGTHSTUDYPERIOD'] < 7.0]\n",
    "one_semester_percentage = (len(one_semester)/len(length_study))*100\n",
    "print(\"Percentage of students staying only one semester: %.2f%%\" %one_semester_percentage)\n",
    "\n",
    "# Percentage of students staying the whole year\n",
    "whole_year_percentage = 100-one_semester_percentage\n",
    "print(\"Percentage of students staying the whole year: %.2f%%\" %whole_year_percentage)\n",
    "\n",
    "# Plot it\n",
    "study_length_percentages = {'One semester': one_semester_percentage, 'One year': whole_year_percentage}\n",
    "pd.Series(study_length_percentages).plot(kind='pie', figsize=figsize)\n",
    "plt.title('Studies length')\n",
    "plt.show()"
   ]
  },
  {
   "cell_type": "markdown",
   "metadata": {},
   "source": [
    "#### Gender"
   ]
  },
  {
   "cell_type": "code",
   "execution_count": null,
   "metadata": {},
   "outputs": [],
   "source": [
    "# Gender percentage\n",
    "gender = records['GENDER'].value_counts()\n",
    "female_count = gender['F']\n",
    "male_count = gender['M']\n",
    "total_count = male_count + female_count\n",
    "female_percentage = (female_count/total_count)*100\n",
    "male_percentage = (male_count/total_count)*100\n",
    "\n",
    "print(\"Percentage of female: %.2f%%\" %female_percentage)\n",
    "print(\"Percentage of male: %.2f%%\" %male_percentage)\n",
    "\n",
    "# Plot it\n",
    "gender_percentages = {'Female': female_percentage, 'Male': male_percentage}\n",
    "pd.Series(gender_percentages).plot(kind='pie', figsize=figsize)\n",
    "plt.title('Gender percentages')\n",
    "plt.show()"
   ]
  },
  {
   "cell_type": "markdown",
   "metadata": {},
   "source": [
    "#### Previous Erasmus"
   ]
  },
  {
   "cell_type": "code",
   "execution_count": null,
   "metadata": {},
   "outputs": [],
   "source": [
    "# Percentage of students who had already been in Erasmus\n",
    "previous_participants = records['PREVIOUSPARTICIPATION']\n",
    "previous_participants_repeating = previous_participants.value_counts()[\"S\"]\n",
    "repeating_percentage = (previous_participants_repeating/len(previous_participants))*100\n",
    "print(\"Percentage of students repeating Erasmus: %.2f%%\" %repeating_percentage)"
   ]
  },
  {
   "cell_type": "markdown",
   "metadata": {},
   "source": [
    "#### Study level"
   ]
  },
  {
   "cell_type": "code",
   "execution_count": null,
   "metadata": {},
   "outputs": [],
   "source": [
    "study_level = records['LEVELSTUDY'].value_counts()\n",
    "\n",
    "# Percentage of students studying a Bachelor's degree\n",
    "bachelors = study_level[\"1\"]\n",
    "bachelors_percentage = (bachelors/len(records))*100\n",
    "print(\"Percentage of students doing a Bachelor's: %.2f%%\" %bachelors_percentage)\n",
    "\n",
    "# Percentage of students studying a Master's degree\n",
    "masters = study_level[\"2\"]\n",
    "masters_percentage = (masters/len(records))*100\n",
    "print(\"Percentage of students doing a Master's: %.2f%%\" %masters_percentage)\n",
    "\n",
    "# Percentage of students studying a PhD\n",
    "phd = study_level[\"3\"]\n",
    "phd_percentage = (phd/len(records))*100\n",
    "print(\"Percentage of students doing a PhD: %.2f%%\" %phd_percentage)"
   ]
  },
  {
   "cell_type": "code",
   "execution_count": null,
   "metadata": {},
   "outputs": [],
   "source": [
    "# Plot the percentages of study level\n",
    "study_level_percentages = {'Bachelor\\'s': bachelors_percentage, 'Master\\'s': masters_percentage, 'PhD': phd_percentage}\n",
    "pd.Series(study_level_percentages).plot(kind='pie', figsize=figsize)\n",
    "plt.title('Study level')\n",
    "plt.show()"
   ]
  },
  {
   "cell_type": "markdown",
   "metadata": {},
   "source": [
    "#### Institutions"
   ]
  },
  {
   "cell_type": "markdown",
   "metadata": {},
   "source": [
    "##### Top 10 sending institutions"
   ]
  },
  {
   "cell_type": "code",
   "execution_count": null,
   "metadata": {},
   "outputs": [],
   "source": [
    "# Top 10 sending institutions\n",
    "home_institution = records['HOMEINSTITUTION']\n",
    "top_sending_institutions = home_institution.value_counts()[:10]\n",
    "print(top_sending_institutions)\n",
    "\n",
    "# Plot it\n",
    "top_sending_institutions.plot(kind='bar', figsize=figsize)\n",
    "plt.title(\"Top 10 sending institutions\")\n",
    "plt.xlabel('Sending institution')\n",
    "plt.ylabel('Number of students sent')\n",
    "plt.show()"
   ]
  },
  {
   "cell_type": "markdown",
   "metadata": {},
   "source": [
    "##### Top 10 receiving institutions"
   ]
  },
  {
   "cell_type": "code",
   "execution_count": null,
   "metadata": {},
   "outputs": [],
   "source": [
    "# Top 10 receiving institutions\n",
    "host_institution = records['HOSTINSTITUTION']\n",
    "top_receiving_institutions = host_institution.value_counts()[:10]\n",
    "print(top_receiving_institutions)\n",
    "\n",
    "# Plot it\n",
    "top_receiving_institutions.plot(kind='bar', figsize=figsize)\n",
    "plt.title(\"Top 10 receiving institutions\")\n",
    "plt.xlabel('Receiving institution')\n",
    "plt.ylabel('Number of students received')\n",
    "plt.show()"
   ]
  },
  {
   "cell_type": "markdown",
   "metadata": {},
   "source": [
    "#### Language"
   ]
  },
  {
   "cell_type": "markdown",
   "metadata": {},
   "source": [
    "##### Top 5 languages"
   ]
  },
  {
   "cell_type": "code",
   "execution_count": null,
   "metadata": {},
   "outputs": [],
   "source": [
    "# Top 5 taught languages\n",
    "taught_language = records['LANGUAGETAUGHT']\n",
    "top_taught_languages = taught_language.value_counts()[:10]\n",
    "top_taught_languages = top_taught_languages.drop(labels=['XX']) # drop \"unknown language\"\n",
    "print(top_taught_languages)\n",
    "\n",
    "# Plot it\n",
    "top_taught_languages.plot(kind='bar', figsize=figsize)\n",
    "plt.title(\"Top 10 taught languages\")\n",
    "plt.xlabel('Language')\n",
    "plt.ylabel('Number of students')\n",
    "plt.show()"
   ]
  },
  {
   "cell_type": "markdown",
   "metadata": {},
   "source": [
    "As we would expect, English is by far the most popular teaching language, with 103k students, followed by Spanish, with 27k, almost 4 times lower. Does this mean that in the UK and Ireland the percentage of Erasmus students taking their courses in English is much higher than in Spain taking them in Spanish, French in France and so on?"
   ]
  },
  {
   "cell_type": "markdown",
   "metadata": {},
   "source": [
    "##### Percentage of students studying in the country official language"
   ]
  },
  {
   "cell_type": "code",
   "execution_count": null,
   "metadata": {},
   "outputs": [],
   "source": [
    "# Percentage taught in host language\n",
    "host_language = list(records['TAUGHTHOSTLANG'])\n",
    "host_language_yes = host_language.count(\"Y\")\n",
    "host_language_percentage = (host_language_yes/len(host_language))*100\n",
    "non_host_language_percentage = 100 - host_language_percentage\n",
    "print(\"Percentage of people studying in the country official language: %.2f%%\" %host_language_percentage)\n",
    "print(\"Percentage of people studying in a foreign language: %.2f%%\" %non_host_language_percentage)\n",
    "\n",
    "# Plot the percentages\n",
    "host_language_percentages = {'Yes': host_language_percentage, 'Non': non_host_language_percentage}\n",
    "pd.Series(host_language_percentages).plot(kind='pie', figsize=figsize)\n",
    "plt.title('People studying in the host language')\n",
    "plt.show()"
   ]
  },
  {
   "cell_type": "markdown",
   "metadata": {},
   "source": [
    "##### Percentage of students studying in the local language for each country"
   ]
  },
  {
   "cell_type": "code",
   "execution_count": null,
   "metadata": {},
   "outputs": [],
   "source": [
    "# Percentage of students studying in the host language for each country\n",
    "number_students_per_country = records['COUNTRYCODEOFHOSTINSTITUTION'].value_counts()\n",
    "students_taught_host_language = records[records['TAUGHTHOSTLANG']=='Y']\n",
    "number_students_taught_host_language = students_taught_host_language['COUNTRYCODEOFHOSTINSTITUTION'].value_counts()\n",
    "\n",
    "countries_host_language_percentage = 100*(number_students_taught_host_language/number_students_per_country)\n",
    "countries_host_language_percentage = countries_host_language_percentage.sort_values(ascending=False)\n",
    "\n",
    "print(countries_host_language_percentage[:10])  # print the top 10\n",
    "\n",
    "# Plot the top 10\n",
    "countries_host_language_percentage[:10].plot(kind='bar', figsize=figsize)\n",
    "plt.title(\"Top 10 countries where students study in local language\")\n",
    "plt.xlabel('Language')\n",
    "plt.ylabel('Percentage of students (%)')\n",
    "plt.show()"
   ]
  },
  {
   "cell_type": "markdown",
   "metadata": {},
   "source": [
    "91.9% of the Erasmus students in the UK are learning in English (so even in the UK there are courses in foreign languages, despite the omnipotence of English language), followed by a 86.8% in Ireland. In third place, a 84.5% of the Erasmus students in Spain took their courses in Spanish, and in fourth place, 81.1% of the students in France took them in French. The difference between the 1st and 5th country (UK and Italy) is just of a 14%."
   ]
  },
  {
   "cell_type": "markdown",
   "metadata": {},
   "source": [
    "#### Students' nationalities"
   ]
  },
  {
   "cell_type": "code",
   "execution_count": null,
   "metadata": {},
   "outputs": [],
   "source": [
    "# Top 5 students' nationalities\n",
    "nationalities = records['NATIONALITY']\n",
    "top_five_nationalities = nationalities.value_counts()[:5]\n",
    "top_five_nationalities_percentages = (top_five_nationalities/len(nationalities))*100\n",
    "print(top_five_nationalities)\n",
    "print(top_five_nationalities_percentages)\n",
    "\n",
    "# Plot it\n",
    "top_five_nationalities.plot(kind='bar', figsize=figsize)\n",
    "plt.title(\"Top 5 students\\' nationalities\")\n",
    "plt.xlabel('Nationality')\n",
    "plt.ylabel('Number of students')\n",
    "plt.show()"
   ]
  },
  {
   "cell_type": "markdown",
   "metadata": {},
   "source": [
    "#### Subject areas"
   ]
  },
  {
   "cell_type": "code",
   "execution_count": null,
   "metadata": {},
   "outputs": [],
   "source": [
    "# Draws a bar chart with the study subject areas\n",
    "# Classification based on the UNESCO'S ISCED: https://en.wikipedia.org/wiki/International_Standard_Classification_of_Education#ISCED_1997_fields_of_education\n",
    "\n",
    "# Classifies the students' subject areas\n",
    "subject_areas = records['SUBJECTAREA'].apply(lambda x: int(str(x)[0])) # take only the first digit of the subject area\n",
    "subject_areas_students = subject_areas.value_counts()\n",
    "\n",
    "subject_areas_names = 'General', 'Education', 'Humanities & arts', 'Social sciences,\\n business & law', 'Science', 'Engineering,\\n manufacturing\\n & construction', 'Agriculture', 'Health & Welfare', 'Services', 'Unspecified'\n",
    "subject_areas_students.index = subject_areas_students.index.map({x: y for x, y in enumerate(subject_areas_names)}) # change the index numbers to the corresponding labels\n",
    "subject_areas_students.plot(kind='bar', figsize=figsize)\n",
    "plt.title(\"Subject areas\")\n",
    "plt.show()\n",
    "\n",
    "print(subject_areas_students)"
   ]
  },
  {
   "cell_type": "markdown",
   "metadata": {},
   "source": [
    "### Correlations between variables"
   ]
  },
  {
   "cell_type": "markdown",
   "metadata": {},
   "source": [
    "#### Gender proportion by receiving university"
   ]
  },
  {
   "cell_type": "code",
   "execution_count": null,
   "metadata": {},
   "outputs": [],
   "source": [
    "gender_dummies = pd.get_dummies(records['GENDER'])\n",
    "gender_institutions = records[['HOSTINSTITUTION']].copy()\n",
    "gender_institutions['M'] = gender_dummies['M']\n",
    "gender_institutions['F'] = gender_dummies['F']\n",
    "gender_institutions = gender_institutions.groupby('HOSTINSTITUTION').sum()\n",
    "gender_institutions['Male percentage'] = 100*gender_institutions['M']/(gender_institutions['M']+gender_institutions['F'])\n",
    "gender_institutions['Female percentage'] = 100-gender_institutions['Male percentage']"
   ]
  },
  {
   "cell_type": "code",
   "execution_count": null,
   "metadata": {},
   "outputs": [],
   "source": [
    "# Get the 30 institutions with the highest male percentage\n",
    "print(\"Top 10 highest male percentage\")\n",
    "display(gender_institutions.sort_values('Male percentage', ascending=False)[['Male percentage']][:123])"
   ]
  },
  {
   "cell_type": "code",
   "execution_count": null,
   "metadata": {},
   "outputs": [],
   "source": [
    "# Get the 30 institutions with the highest female percentage\n",
    "print(\"Top 10 highest female percentage\")\n",
    "gender_institutions.sort_values('Female percentage', ascending=False)[['Female percentage']][:256]"
   ]
  },
  {
   "cell_type": "markdown",
   "metadata": {},
   "source": [
    "#### Average age by receiving university"
   ]
  },
  {
   "cell_type": "code",
   "execution_count": null,
   "metadata": {},
   "outputs": [],
   "source": [
    "# Look for the 10 institutions with the highest average age and the 10 with the lowest\n",
    "ages_institution = records[['AGE', 'HOSTINSTITUTION']].groupby('HOSTINSTITUTION').mean()"
   ]
  },
  {
   "cell_type": "code",
   "execution_count": null,
   "metadata": {},
   "outputs": [],
   "source": [
    "# Get the 10 institutions with the highest average age\n",
    "print(\"Top 10 highest average age\")\n",
    "ages_institution.sort_values('AGE', ascending=False)[:10]"
   ]
  },
  {
   "cell_type": "code",
   "execution_count": null,
   "metadata": {},
   "outputs": [],
   "source": [
    "# Get the 10 institutions with the lowest average age\n",
    "print(\"Top 10 lowest average age\")\n",
    "ages_institution.sort_values('AGE', ascending=True)[:10]"
   ]
  },
  {
   "cell_type": "markdown",
   "metadata": {},
   "source": [
    "#### Number of students coming to a country for each student sent abroad"
   ]
  },
  {
   "cell_type": "code",
   "execution_count": null,
   "metadata": {},
   "outputs": [],
   "source": [
    "# Compares number of incoming and outgoing students for each country\n",
    "incoming_countries = records['COUNTRYCODEOFHOSTINSTITUTION'].value_counts()\n",
    "outgoing_countries = records['COUNTRYCODEOFHOMEINSTITUTION'].value_counts()\n",
    "countries_ratio = incoming_countries/outgoing_countries\n",
    "\n",
    "# Plots the data in a bars graphic\n",
    "incoming_outgoing_countries = pd.DataFrame({'Incoming': incoming_countries/(incoming_countries+outgoing_countries), 'Outgoing': outgoing_countries/(incoming_countries+outgoing_countries), 'Ratio': countries_ratio}).sort_values(ascending=False, by=\"Ratio\").drop(columns=\"Ratio\")\n",
    "incoming_outgoing_countries.plot(kind='bar', figsize=figsize)"
   ]
  },
  {
   "cell_type": "markdown",
   "metadata": {},
   "source": [
    "#### Home and host country"
   ]
  },
  {
   "cell_type": "code",
   "execution_count": null,
   "metadata": {},
   "outputs": [],
   "source": [
    "# Create a cross table and normalize it\n",
    "home_host_countries = pd.crosstab(records['COUNTRYCODEOFHOMEINSTITUTION'], records['COUNTRYCODEOFHOSTINSTITUTION'], normalize='index')\n",
    "\n",
    "# Plot home vs. destination country\n",
    "f, ax = plt.subplots(figsize=(14, 12))\n",
    "sns.heatmap(home_host_countries, ax=ax, linewidths=.5, cmap='Paired')"
   ]
  },
  {
   "cell_type": "markdown",
   "metadata": {},
   "source": [
    "From this heatmap we can guess that there are some popular destination countries for some origin countries. Let's check them for one country."
   ]
  },
  {
   "cell_type": "code",
   "execution_count": null,
   "metadata": {},
   "outputs": [],
   "source": [
    "display(home_host_countries.loc['ES'].sort_values(ascending=False).plot(kind='pie', figsize=figsize, normalize=True))\n",
    "display(100 * home_host_countries.loc['ES'].sort_values(ascending=False).head(6))"
   ]
  },
  {
   "cell_type": "markdown",
   "metadata": {},
   "source": [
    "If there were no correlation between the home and destination countries, for each home country, each destination country would receive 2.86% of the students. However, both in the heatmap and in the pie chart above, it looks like the entropy for the destination country is quite low. From the pie chart, it looks like Spanish students have a huge preference for Italy (21.3%), France (12.4%), Germany (11.1%), UK (9.4%), Portugal (6.8%) and Poland (6.6%). "
   ]
  },
  {
   "cell_type": "markdown",
   "metadata": {},
   "source": [
    "#### Destination and subject area"
   ]
  },
  {
   "cell_type": "code",
   "execution_count": null,
   "metadata": {},
   "outputs": [],
   "source": [
    "# Create a pivot table in which each row represents a subject area, and each column a university. The value of the cell (x, y) is the percentage of Erasmus students whose courses are in subject area x that went to university y\n",
    "destination_subject_area = records[['SUBJECTAREA', 'HOSTINSTITUTION']].copy()\n",
    "destination_subject_area['SUBJECTAREA_GROUPED'] = destination_subject_area['SUBJECTAREA'].apply(lambda x: str(x)[0])  # get only the first digit\n",
    "destination_subject_area = destination_subject_area.drop(columns='SUBJECTAREA').rename(columns={'SUBJECTAREA_GROUPED': 'SUBJECTAREA'})\n",
    "destination_subject_area_pivot = pd.crosstab(destination_subject_area['SUBJECTAREA'], destination_subject_area['HOSTINSTITUTION'], normalize='index')"
   ]
  },
  {
   "cell_type": "code",
   "execution_count": null,
   "metadata": {},
   "outputs": [],
   "source": [
    "# For each subject area, find the most popular destination institution and get its percentage\n",
    "subject_areas_names = 'General', 'Education', 'Humanities & arts', 'Social sciences,\\n business & law', 'Science', 'Engineering,\\n manufacturing\\n & construction', 'Agriculture', 'Health & Welfare', 'Services', 'Unspecified'\n",
    "\n",
    "for subject_area in destination_subject_area_pivot.index.to_list():\n",
    "    destinations = destination_subject_area_pivot.loc[subject_area]\n",
    "    top_destination = destinations.sort_values(ascending=False)\n",
    "    print(subject_areas_names[int(subject_area)])\n",
    "    print(100*top_destination.head(5))\n",
    "    print()"
   ]
  },
  {
   "cell_type": "markdown",
   "metadata": {},
   "source": [
    "If the correlation between the subject area and the destination university were null, for each subject area, each destination university would receive 0.04% of the students. However, for most of the subject areas, the institution receiving more students has between a 1% and 3.7%, showing that the entropy between those two variables is not high. The percentages for the \"General\" category are remarkable, with only three institutions receiving almost the 50% of the students."
   ]
  },
  {
   "cell_type": "markdown",
   "metadata": {},
   "source": [
    "#### Sending and receiving countries and monthly grant"
   ]
  },
  {
   "cell_type": "code",
   "execution_count": null,
   "metadata": {},
   "outputs": [],
   "source": [
    "# Load the data\n",
    "receiving_country_grants_df = records[['COUNTRYCODEOFHOSTINSTITUTION', 'COUNTRYCODEOFHOMEINSTITUTION', 'STUDYGRANT', 'LENGTHSTUDYPERIOD']].copy()\n",
    "receiving_country_grants_df['MONTHLY_GRANT'] = receiving_country_grants_df['STUDYGRANT'] / receiving_country_grants_df['LENGTHSTUDYPERIOD']"
   ]
  },
  {
   "cell_type": "code",
   "execution_count": null,
   "metadata": {},
   "outputs": [],
   "source": [
    "fig, ax = plt.subplots(figsize=figsize)\n",
    "sns.boxplot(x='COUNTRYCODEOFHOSTINSTITUTION', y='MONTHLY_GRANT', data=receiving_country_grants_df, width=0.5, ax=ax).set_title('Grant for each receiving country')"
   ]
  },
  {
   "cell_type": "code",
   "execution_count": null,
   "metadata": {},
   "outputs": [],
   "source": [
    "fig, ax = plt.subplots(figsize=figsize)\n",
    "sns.boxplot(x='COUNTRYCODEOFHOMEINSTITUTION', y='MONTHLY_GRANT', data=receiving_country_grants_df, width=0.5, ax=ax).set_title('Grant for each sending country')"
   ]
  },
  {
   "cell_type": "markdown",
   "metadata": {},
   "source": [
    "Comparing the two plots, it is evident that the home country is a more deterministic factor than the destination country in the amount of money received by the students. In the first plot, it looks like the average of the monthly grant for each destination country is quite homogenous, and for most of them, the variance is very high, ranging from a 50% to a 150% of the average value, while in the second plot, the variance is really low, and the average grants are very heterogenous."
   ]
  },
  {
   "cell_type": "markdown",
   "metadata": {},
   "source": [
    "#### Number of ECTS and months staying"
   ]
  },
  {
   "cell_type": "code",
   "execution_count": null,
   "metadata": {},
   "outputs": [],
   "source": [
    "# Correlation index between number of ECTS and months staying\n",
    "a = records['TOTALECTSCREDITS']\n",
    "b = records['LENGTHSTUDYPERIOD']\n",
    "a.corr(b, method=\"spearman\") # Spearman correlation is the most appropiate for this type of data (numeric but not normal distributed)"
   ]
  },
  {
   "cell_type": "code",
   "execution_count": null,
   "metadata": {
    "scrolled": true
   },
   "outputs": [],
   "source": [
    "# Plot host institution vs. subject area\n",
    "import seaborn as sns\n",
    "\n",
    "f, ax = plt.subplots(figsize=(14, 12))\n",
    "sns.heatmap(pd.crosstab(records['TOTALECTSCREDITS'], records['LENGTHSTUDYPERIOD']), cmap='Paired', ax=ax)"
   ]
  },
  {
   "cell_type": "markdown",
   "metadata": {},
   "source": [
    "The two compared variables are numeric, then it makes sense to calculate the correlation index using the Spearman approach. The 0.530 index suggests it exists correlation between the number of ECTS and the months staying. In the heatmap we can precisely see that most of the students staying less than 7 months take 30 ECTS, and the ones staying more, 60 ECTS. This can be seen more easily by ploting the distribution of the number of ECTS for the students staying one semester and the ones staying the whole academic year."
   ]
  },
  {
   "cell_type": "code",
   "execution_count": null,
   "metadata": {},
   "outputs": [],
   "source": [
    "number_of_semesters_df = records.copy()[['LENGTHSTUDYPERIOD', 'TOTALECTSCREDITS']]\n",
    "number_of_semesters_df['NUMBEROFSEMESTERS'] = number_of_semesters_df['LENGTHSTUDYPERIOD'].apply(lambda x: 1 if x < 7.0 else 2)\n",
    "number_of_semesters_df = number_of_semesters_df.drop(columns='LENGTHSTUDYPERIOD')"
   ]
  },
  {
   "cell_type": "code",
   "execution_count": null,
   "metadata": {},
   "outputs": [],
   "source": [
    "number_of_semesters_df[number_of_semesters_df['NUMBEROFSEMESTERS']==1].groupby('TOTALECTSCREDITS').count().plot(kind='bar', figsize=figsize, xticks=range(0, 100, 10))"
   ]
  },
  {
   "cell_type": "code",
   "execution_count": null,
   "metadata": {},
   "outputs": [],
   "source": [
    "number_of_semesters_df[number_of_semesters_df['NUMBEROFSEMESTERS']==2].groupby('TOTALECTSCREDITS').count().plot(kind='bar', figsize=figsize, xticks=range(0, 100, 10))"
   ]
  },
  {
   "cell_type": "code",
   "execution_count": null,
   "metadata": {},
   "outputs": [],
   "source": []
  }
 ],
 "metadata": {
  "kernelspec": {
   "display_name": "Python 3",
   "language": "python",
   "name": "python3"
  },
  "language_info": {
   "codemirror_mode": {
    "name": "ipython",
    "version": 3
   },
   "file_extension": ".py",
   "mimetype": "text/x-python",
   "name": "python",
   "nbconvert_exporter": "python",
   "pygments_lexer": "ipython3",
   "version": "3.8.7"
  }
 },
 "nbformat": 4,
 "nbformat_minor": 4
}
